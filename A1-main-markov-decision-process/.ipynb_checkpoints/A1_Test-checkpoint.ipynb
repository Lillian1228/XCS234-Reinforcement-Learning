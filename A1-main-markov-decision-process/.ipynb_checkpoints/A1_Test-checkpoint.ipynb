{
 "cells": [
  {
   "cell_type": "code",
   "execution_count": 3,
   "id": "d58db58a",
   "metadata": {},
   "outputs": [],
   "source": [
    "import argparse\n",
    "import numpy as np\n",
    "import gym\n",
    "import time\n",
    "from gym.envs.toy_text import frozen_lake\n",
    "from gym.envs.registration import register\n",
    "\n",
    "parser = argparse.ArgumentParser(\n",
    "    description=\"A program to run assignment 1 implementations.\",\n",
    "    formatter_class=argparse.ArgumentDefaultsHelpFormatter,\n",
    ")\n",
    "\n",
    "parser.add_argument(\n",
    "    \"--env\",\n",
    "    help=\"The name of the environment to run your algorithm on.\",\n",
    "    choices=[\n",
    "        \"Deterministic-4x4-FrozenLake-v1\",\n",
    "        \"Stochastic-4x4-FrozenLake-v1\",\n",
    "        \"Deterministic-8x8-FrozenLake-v1\",\n",
    "        \"Stochastic-8x8-FrozenLake-v1\",\n",
    "    ],\n",
    "    default=\"Deterministic-4x4-FrozenLake-v1\",\n",
    ")\n",
    "\n",
    "parser.add_argument(\n",
    "    \"--algorithm\",\n",
    "    help=\"The name of the algorithm to run.\",\n",
    "    choices=[\"both\", \"policy_iteration\", \"value_iteration\"],\n",
    "    default=\"both\",\n",
    ")\n",
    "\n",
    "# Register custom gym environments\n",
    "env_dict = gym.envs.registration.registry.copy()\n",
    "for env in env_dict:\n",
    "    if \"Deterministic-4x4-FrozenLake-v1\" in env:\n",
    "        del gym.envs.registration.registry[env]\n",
    "\n",
    "    elif \"Deterministic-8x8-FrozenLake-v1\" in env:\n",
    "        del gym.envs.registration.registry[env]\n",
    "\n",
    "    elif \"Stochastic-4x4-FrozenLake-v1\" in env:\n",
    "        del gym.envs.registration.registry[env]\n",
    "\n",
    "    elif \"Stochastic-8x8-FrozenLake-v1\" in env:\n",
    "        del gym.envs.registration.registry[env]\n",
    "\n",
    "register(\n",
    "    id=\"Deterministic-4x4-FrozenLake-v1\",\n",
    "    entry_point=\"gym.envs.toy_text.frozen_lake:FrozenLakeEnv\",\n",
    "    kwargs={\"map_name\": \"4x4\", \"is_slippery\": False},\n",
    ")\n",
    "\n",
    "register(\n",
    "    id=\"Deterministic-8x8-FrozenLake-v1\",\n",
    "    entry_point=\"gym.envs.toy_text.frozen_lake:FrozenLakeEnv\",\n",
    "    kwargs={\"map_name\": \"8x8\", \"is_slippery\": False},\n",
    ")\n",
    "\n",
    "register(\n",
    "    id=\"Stochastic-4x4-FrozenLake-v1\",\n",
    "    entry_point=\"gym.envs.toy_text.frozen_lake:FrozenLakeEnv\",\n",
    "    kwargs={\"map_name\": \"4x4\", \"is_slippery\": True},\n",
    ")\n",
    "\n",
    "register(\n",
    "    id=\"Stochastic-8x8-FrozenLake-v1\",\n",
    "    entry_point=\"gym.envs.toy_text.frozen_lake:FrozenLakeEnv\",\n",
    "    kwargs={\"map_name\": \"8x8\", \"is_slippery\": True},\n",
    ")"
   ]
  },
  {
   "cell_type": "markdown",
   "id": "0c4be453",
   "metadata": {},
   "source": [
    "\"\"\"\n",
    "For policy_evaluation, policy_improvement, policy_iteration and value_iteration,\n",
    "the parameters P, nS, nA, gamma are defined as follows:\n",
    "\n",
    "\tP (dict): From gym.core.Environment\n",
    "\t\tFor each pair of states in [0, nS - 1] and actions in [0, nA - 1], P[state][action] is a\n",
    "\t\tlist of tuples of the form [(probability, nextstate, reward, terminal),...] where\n",
    "\t\t\t- probability: float\n",
    "\t\t\t\tthe probability of transitioning from \"state\" to \"nextstate\" with \"action\"\n",
    "\t\t\t- nextstate: int\n",
    "\t\t\t\tdenotes the state we transition to (in range [0, nS - 1])\n",
    "\t\t\t- reward: int\n",
    "\t\t\t\teither 0 or 1, the reward for transitioning from \"state\" to\n",
    "\t\t\t\t\"nextstate\" with \"action\"\n",
    "\t\t\t- terminal: bool\n",
    "\t\t\t  True when \"nextstate\" is a terminal state (hole or goal), False otherwise\n",
    "\tnS (int): number of states in the environment\n",
    "\tnA (int): number of actions in the environment\n",
    "\tgamma (float): Discount factor. Number in range [0, 1)\n",
    "\"\"\"\n"
   ]
  },
  {
   "cell_type": "code",
   "execution_count": 93,
   "id": "3d23128e",
   "metadata": {},
   "outputs": [],
   "source": [
    "#args = parser.parse_args()\n",
    "env = gym.make(\"Stochastic-8x8-FrozenLake-v1\", render_mode=\"human\")"
   ]
  },
  {
   "cell_type": "code",
   "execution_count": 58,
   "id": "85d6f608",
   "metadata": {
    "scrolled": true
   },
   "outputs": [
    {
     "name": "stdout",
     "output_type": "stream",
     "text": [
      "[0. 0. 0. 0. 0. 0. 0. 0. 0. 0. 0. 0. 0. 0. 0. 0.]\n",
      "[0 0 0 0 0 0 0 0 0 0 0 0 0 0 0 0]\n"
     ]
    }
   ],
   "source": [
    "\n",
    "value_function = np.zeros(env.observation_space.n)\n",
    "print(value_function)\n",
    "policy = np.zeros(env.observation_space.n, dtype=int)\n",
    "print(policy)\n",
    "new_v_function = np.copy(value_function)\n",
    "gamma=0.9\n",
    "tol=1e-3"
   ]
  },
  {
   "cell_type": "code",
   "execution_count": 68,
   "id": "0d794898",
   "metadata": {},
   "outputs": [
    {
     "name": "stdout",
     "output_type": "stream",
     "text": [
      "0 0\n",
      "1 0\n",
      "2 0\n",
      "3 0\n",
      "4 0\n",
      "5 0\n",
      "6 0\n",
      "7 0\n",
      "8 0\n",
      "9 0\n",
      "10 0\n",
      "11 0\n",
      "12 0\n",
      "13 0\n",
      "14 0\n",
      "15 0\n"
     ]
    }
   ],
   "source": [
    "for s, a in enumerate(policy):\n",
    "    print(s,a)"
   ]
  },
  {
   "cell_type": "code",
   "execution_count": 67,
   "id": "d0b57d8e",
   "metadata": {
    "scrolled": true
   },
   "outputs": [
    {
     "data": {
      "text/plain": [
       "{0: {0: [(0.3333333333333333, 0, 0.0, False),\n",
       "   (0.3333333333333333, 0, 0.0, False),\n",
       "   (0.3333333333333333, 4, 0.0, False)],\n",
       "  1: [(0.3333333333333333, 0, 0.0, False),\n",
       "   (0.3333333333333333, 4, 0.0, False),\n",
       "   (0.3333333333333333, 1, 0.0, False)],\n",
       "  2: [(0.3333333333333333, 4, 0.0, False),\n",
       "   (0.3333333333333333, 1, 0.0, False),\n",
       "   (0.3333333333333333, 0, 0.0, False)],\n",
       "  3: [(0.3333333333333333, 1, 0.0, False),\n",
       "   (0.3333333333333333, 0, 0.0, False),\n",
       "   (0.3333333333333333, 0, 0.0, False)]},\n",
       " 1: {0: [(0.3333333333333333, 1, 0.0, False),\n",
       "   (0.3333333333333333, 0, 0.0, False),\n",
       "   (0.3333333333333333, 5, 0.0, True)],\n",
       "  1: [(0.3333333333333333, 0, 0.0, False),\n",
       "   (0.3333333333333333, 5, 0.0, True),\n",
       "   (0.3333333333333333, 2, 0.0, False)],\n",
       "  2: [(0.3333333333333333, 5, 0.0, True),\n",
       "   (0.3333333333333333, 2, 0.0, False),\n",
       "   (0.3333333333333333, 1, 0.0, False)],\n",
       "  3: [(0.3333333333333333, 2, 0.0, False),\n",
       "   (0.3333333333333333, 1, 0.0, False),\n",
       "   (0.3333333333333333, 0, 0.0, False)]},\n",
       " 2: {0: [(0.3333333333333333, 2, 0.0, False),\n",
       "   (0.3333333333333333, 1, 0.0, False),\n",
       "   (0.3333333333333333, 6, 0.0, False)],\n",
       "  1: [(0.3333333333333333, 1, 0.0, False),\n",
       "   (0.3333333333333333, 6, 0.0, False),\n",
       "   (0.3333333333333333, 3, 0.0, False)],\n",
       "  2: [(0.3333333333333333, 6, 0.0, False),\n",
       "   (0.3333333333333333, 3, 0.0, False),\n",
       "   (0.3333333333333333, 2, 0.0, False)],\n",
       "  3: [(0.3333333333333333, 3, 0.0, False),\n",
       "   (0.3333333333333333, 2, 0.0, False),\n",
       "   (0.3333333333333333, 1, 0.0, False)]},\n",
       " 3: {0: [(0.3333333333333333, 3, 0.0, False),\n",
       "   (0.3333333333333333, 2, 0.0, False),\n",
       "   (0.3333333333333333, 7, 0.0, True)],\n",
       "  1: [(0.3333333333333333, 2, 0.0, False),\n",
       "   (0.3333333333333333, 7, 0.0, True),\n",
       "   (0.3333333333333333, 3, 0.0, False)],\n",
       "  2: [(0.3333333333333333, 7, 0.0, True),\n",
       "   (0.3333333333333333, 3, 0.0, False),\n",
       "   (0.3333333333333333, 3, 0.0, False)],\n",
       "  3: [(0.3333333333333333, 3, 0.0, False),\n",
       "   (0.3333333333333333, 3, 0.0, False),\n",
       "   (0.3333333333333333, 2, 0.0, False)]},\n",
       " 4: {0: [(0.3333333333333333, 0, 0.0, False),\n",
       "   (0.3333333333333333, 4, 0.0, False),\n",
       "   (0.3333333333333333, 8, 0.0, False)],\n",
       "  1: [(0.3333333333333333, 4, 0.0, False),\n",
       "   (0.3333333333333333, 8, 0.0, False),\n",
       "   (0.3333333333333333, 5, 0.0, True)],\n",
       "  2: [(0.3333333333333333, 8, 0.0, False),\n",
       "   (0.3333333333333333, 5, 0.0, True),\n",
       "   (0.3333333333333333, 0, 0.0, False)],\n",
       "  3: [(0.3333333333333333, 5, 0.0, True),\n",
       "   (0.3333333333333333, 0, 0.0, False),\n",
       "   (0.3333333333333333, 4, 0.0, False)]},\n",
       " 5: {0: [(1.0, 5, 0, True)],\n",
       "  1: [(1.0, 5, 0, True)],\n",
       "  2: [(1.0, 5, 0, True)],\n",
       "  3: [(1.0, 5, 0, True)]},\n",
       " 6: {0: [(0.3333333333333333, 2, 0.0, False),\n",
       "   (0.3333333333333333, 5, 0.0, True),\n",
       "   (0.3333333333333333, 10, 0.0, False)],\n",
       "  1: [(0.3333333333333333, 5, 0.0, True),\n",
       "   (0.3333333333333333, 10, 0.0, False),\n",
       "   (0.3333333333333333, 7, 0.0, True)],\n",
       "  2: [(0.3333333333333333, 10, 0.0, False),\n",
       "   (0.3333333333333333, 7, 0.0, True),\n",
       "   (0.3333333333333333, 2, 0.0, False)],\n",
       "  3: [(0.3333333333333333, 7, 0.0, True),\n",
       "   (0.3333333333333333, 2, 0.0, False),\n",
       "   (0.3333333333333333, 5, 0.0, True)]},\n",
       " 7: {0: [(1.0, 7, 0, True)],\n",
       "  1: [(1.0, 7, 0, True)],\n",
       "  2: [(1.0, 7, 0, True)],\n",
       "  3: [(1.0, 7, 0, True)]},\n",
       " 8: {0: [(0.3333333333333333, 4, 0.0, False),\n",
       "   (0.3333333333333333, 8, 0.0, False),\n",
       "   (0.3333333333333333, 12, 0.0, True)],\n",
       "  1: [(0.3333333333333333, 8, 0.0, False),\n",
       "   (0.3333333333333333, 12, 0.0, True),\n",
       "   (0.3333333333333333, 9, 0.0, False)],\n",
       "  2: [(0.3333333333333333, 12, 0.0, True),\n",
       "   (0.3333333333333333, 9, 0.0, False),\n",
       "   (0.3333333333333333, 4, 0.0, False)],\n",
       "  3: [(0.3333333333333333, 9, 0.0, False),\n",
       "   (0.3333333333333333, 4, 0.0, False),\n",
       "   (0.3333333333333333, 8, 0.0, False)]},\n",
       " 9: {0: [(0.3333333333333333, 5, 0.0, True),\n",
       "   (0.3333333333333333, 8, 0.0, False),\n",
       "   (0.3333333333333333, 13, 0.0, False)],\n",
       "  1: [(0.3333333333333333, 8, 0.0, False),\n",
       "   (0.3333333333333333, 13, 0.0, False),\n",
       "   (0.3333333333333333, 10, 0.0, False)],\n",
       "  2: [(0.3333333333333333, 13, 0.0, False),\n",
       "   (0.3333333333333333, 10, 0.0, False),\n",
       "   (0.3333333333333333, 5, 0.0, True)],\n",
       "  3: [(0.3333333333333333, 10, 0.0, False),\n",
       "   (0.3333333333333333, 5, 0.0, True),\n",
       "   (0.3333333333333333, 8, 0.0, False)]},\n",
       " 10: {0: [(0.3333333333333333, 6, 0.0, False),\n",
       "   (0.3333333333333333, 9, 0.0, False),\n",
       "   (0.3333333333333333, 14, 0.0, False)],\n",
       "  1: [(0.3333333333333333, 9, 0.0, False),\n",
       "   (0.3333333333333333, 14, 0.0, False),\n",
       "   (0.3333333333333333, 11, 0.0, True)],\n",
       "  2: [(0.3333333333333333, 14, 0.0, False),\n",
       "   (0.3333333333333333, 11, 0.0, True),\n",
       "   (0.3333333333333333, 6, 0.0, False)],\n",
       "  3: [(0.3333333333333333, 11, 0.0, True),\n",
       "   (0.3333333333333333, 6, 0.0, False),\n",
       "   (0.3333333333333333, 9, 0.0, False)]},\n",
       " 11: {0: [(1.0, 11, 0, True)],\n",
       "  1: [(1.0, 11, 0, True)],\n",
       "  2: [(1.0, 11, 0, True)],\n",
       "  3: [(1.0, 11, 0, True)]},\n",
       " 12: {0: [(1.0, 12, 0, True)],\n",
       "  1: [(1.0, 12, 0, True)],\n",
       "  2: [(1.0, 12, 0, True)],\n",
       "  3: [(1.0, 12, 0, True)]},\n",
       " 13: {0: [(0.3333333333333333, 9, 0.0, False),\n",
       "   (0.3333333333333333, 12, 0.0, True),\n",
       "   (0.3333333333333333, 13, 0.0, False)],\n",
       "  1: [(0.3333333333333333, 12, 0.0, True),\n",
       "   (0.3333333333333333, 13, 0.0, False),\n",
       "   (0.3333333333333333, 14, 0.0, False)],\n",
       "  2: [(0.3333333333333333, 13, 0.0, False),\n",
       "   (0.3333333333333333, 14, 0.0, False),\n",
       "   (0.3333333333333333, 9, 0.0, False)],\n",
       "  3: [(0.3333333333333333, 14, 0.0, False),\n",
       "   (0.3333333333333333, 9, 0.0, False),\n",
       "   (0.3333333333333333, 12, 0.0, True)]},\n",
       " 14: {0: [(0.3333333333333333, 10, 0.0, False),\n",
       "   (0.3333333333333333, 13, 0.0, False),\n",
       "   (0.3333333333333333, 14, 0.0, False)],\n",
       "  1: [(0.3333333333333333, 13, 0.0, False),\n",
       "   (0.3333333333333333, 14, 0.0, False),\n",
       "   (0.3333333333333333, 15, 1.0, True)],\n",
       "  2: [(0.3333333333333333, 14, 0.0, False),\n",
       "   (0.3333333333333333, 15, 1.0, True),\n",
       "   (0.3333333333333333, 10, 0.0, False)],\n",
       "  3: [(0.3333333333333333, 15, 1.0, True),\n",
       "   (0.3333333333333333, 10, 0.0, False),\n",
       "   (0.3333333333333333, 13, 0.0, False)]},\n",
       " 15: {0: [(1.0, 15, 0, True)],\n",
       "  1: [(1.0, 15, 0, True)],\n",
       "  2: [(1.0, 15, 0, True)],\n",
       "  3: [(1.0, 15, 0, True)]}}"
      ]
     },
     "execution_count": 67,
     "metadata": {},
     "output_type": "execute_result"
    }
   ],
   "source": [
    "env.P"
   ]
  },
  {
   "cell_type": "code",
   "execution_count": 66,
   "id": "bd4dd50b",
   "metadata": {},
   "outputs": [
    {
     "name": "stdout",
     "output_type": "stream",
     "text": [
      "(0.3333333333333333, 0, 0.0, False)\n",
      "(0.3333333333333333, 0, 0.0, False)\n",
      "(0.3333333333333333, 4, 0.0, False)\n",
      "(0.3333333333333333, 1, 0.0, False)\n",
      "(0.3333333333333333, 0, 0.0, False)\n",
      "(0.3333333333333333, 5, 0.0, True)\n",
      "(0.3333333333333333, 2, 0.0, False)\n",
      "(0.3333333333333333, 1, 0.0, False)\n",
      "(0.3333333333333333, 6, 0.0, False)\n",
      "(0.3333333333333333, 3, 0.0, False)\n",
      "(0.3333333333333333, 2, 0.0, False)\n",
      "(0.3333333333333333, 7, 0.0, True)\n",
      "(0.3333333333333333, 0, 0.0, False)\n",
      "(0.3333333333333333, 4, 0.0, False)\n",
      "(0.3333333333333333, 8, 0.0, False)\n",
      "(1.0, 5, 0, True)\n",
      "(0.3333333333333333, 2, 0.0, False)\n",
      "(0.3333333333333333, 5, 0.0, True)\n",
      "(0.3333333333333333, 10, 0.0, False)\n",
      "(1.0, 7, 0, True)\n",
      "(0.3333333333333333, 4, 0.0, False)\n",
      "(0.3333333333333333, 8, 0.0, False)\n",
      "(0.3333333333333333, 12, 0.0, True)\n",
      "(0.3333333333333333, 5, 0.0, True)\n",
      "(0.3333333333333333, 8, 0.0, False)\n",
      "(0.3333333333333333, 13, 0.0, False)\n",
      "(0.3333333333333333, 6, 0.0, False)\n",
      "(0.3333333333333333, 9, 0.0, False)\n",
      "(0.3333333333333333, 14, 0.0, False)\n",
      "(1.0, 11, 0, True)\n",
      "(1.0, 12, 0, True)\n",
      "(0.3333333333333333, 9, 0.0, False)\n",
      "(0.3333333333333333, 12, 0.0, True)\n",
      "(0.3333333333333333, 13, 0.0, False)\n",
      "(0.3333333333333333, 10, 0.0, False)\n",
      "(0.3333333333333333, 13, 0.0, False)\n",
      "(0.3333333333333333, 14, 0.0, False)\n",
      "(1.0, 15, 0, True)\n",
      "[0. 0. 0. 0. 0. 0. 0. 0. 0. 0. 0. 0. 0. 0. 0. 0.]\n"
     ]
    }
   ],
   "source": [
    "i= 1\n",
    "for s, a in enumerate(policy):\n",
    "    print(s,a)\n",
    "    for s_a_scenario in env.P[s][a]:\n",
    "        print(s_a_scenario)\n",
    "        prob, next_s, reward, terminal = s_a_scenario\n",
    "        new_v_function[s] += prob * (reward + gamma * value_function[next_s])\n",
    "print(new_v_function)"
   ]
  },
  {
   "cell_type": "code",
   "execution_count": 17,
   "id": "1c7082ca",
   "metadata": {},
   "outputs": [
    {
     "name": "stdout",
     "output_type": "stream",
     "text": [
      "64\n",
      "64\n",
      "4\n"
     ]
    }
   ],
   "source": [
    "print(len(env.P))\n",
    "\n",
    "print(env.observation_space.n)\n",
    "print(env.action_space.n)"
   ]
  },
  {
   "cell_type": "code",
   "execution_count": 79,
   "id": "99d7ac66",
   "metadata": {},
   "outputs": [],
   "source": [
    "import src.submission as sub\n",
    "from importlib import reload\n",
    "sub = reload(sub)"
   ]
  },
  {
   "cell_type": "code",
   "execution_count": 86,
   "id": "60e846a6",
   "metadata": {},
   "outputs": [
    {
     "name": "stdout",
     "output_type": "stream",
     "text": [
      "policy changed in 2 states\n",
      "policy changed in 2 states\n",
      "policy changed in 3 states\n",
      "policy changed in 3 states\n",
      "policy changed in 4 states\n",
      "policy changed in 4 states\n",
      "policy changed in 5 states\n",
      "policy changed in 5 states\n",
      "policy changed in 4 states\n",
      "policy changed in 6 states\n",
      "policy changed in 6 states\n",
      "policy changed in 5 states\n",
      "policy changed in 3 states\n",
      "policy changed in 1 states\n",
      "policy changed in 0 states\n"
     ]
    }
   ],
   "source": [
    "V_pi, p_pi = sub.policy_iteration(\n",
    "            env.P, env.observation_space.n, env.action_space.n, gamma=0.9, tol=1e-3\n",
    "        )"
   ]
  },
  {
   "cell_type": "code",
   "execution_count": 87,
   "id": "f2064cf6",
   "metadata": {},
   "outputs": [
    {
     "name": "stdout",
     "output_type": "stream",
     "text": [
      "[0.254 0.282 0.314 0.349 0.387 0.43  0.478 0.531 0.282 0.314 0.349 0.387\n",
      " 0.43  0.478 0.531 0.59  0.314 0.349 0.387 0.    0.478 0.531 0.59  0.656\n",
      " 0.349 0.387 0.43  0.478 0.531 0.    0.656 0.729 0.314 0.349 0.387 0.\n",
      " 0.59  0.656 0.729 0.81  0.282 0.    0.    0.59  0.656 0.729 0.    0.9\n",
      " 0.314 0.    0.478 0.531 0.    0.81  0.    1.    0.349 0.387 0.43  0.\n",
      " 0.81  0.9   1.    0.   ]\n",
      "[1 1 1 1 1 1 1 1 1 1 1 2 1 1 1 1 1 1 1 0 1 2 1 1 2 2 2 2 1 0 1 1 2 2 3 0 1\n",
      " 1 2 1 1 0 0 2 2 1 0 1 1 0 2 3 0 1 0 1 2 2 3 0 2 2 2 0]\n"
     ]
    }
   ],
   "source": [
    "print(V_pi)\n",
    "print(p_pi)"
   ]
  },
  {
   "cell_type": "code",
   "execution_count": 88,
   "id": "ae9155d1",
   "metadata": {},
   "outputs": [
    {
     "name": "stdout",
     "output_type": "stream",
     "text": [
      "Episode reward: 1.000000\n"
     ]
    }
   ],
   "source": [
    "sub.render_single(env, p_pi, 100)"
   ]
  },
  {
   "cell_type": "code",
   "execution_count": 94,
   "id": "5001acc2",
   "metadata": {},
   "outputs": [
    {
     "name": "stdout",
     "output_type": "stream",
     "text": [
      "[0.006 0.008 0.012 0.018 0.025 0.032 0.039 0.043 0.006 0.007 0.011 0.016\n",
      " 0.026 0.036 0.049 0.057 0.005 0.006 0.007 0.    0.026 0.039 0.068 0.084\n",
      " 0.004 0.005 0.006 0.008 0.02  0.    0.092 0.129 0.003 0.003 0.003 0.\n",
      " 0.034 0.062 0.109 0.21  0.002 0.    0.    0.011 0.032 0.063 0.    0.36\n",
      " 0.001 0.    0.001 0.004 0.    0.116 0.    0.631 0.001 0.001 0.001 0.\n",
      " 0.138 0.323 0.614 0.   ]\n",
      "[3 2 2 2 2 2 2 2 3 3 3 3 2 2 2 1 3 3 0 0 2 3 2 1 3 3 3 1 0 0 2 1 3 3 0 0 2\n",
      " 1 3 2 0 0 0 1 3 0 0 2 0 0 1 0 0 0 0 2 0 1 0 0 1 1 1 0]\n"
     ]
    }
   ],
   "source": [
    "V_vi, p_vi = sub.value_iteration(env.P, env.observation_space.n, env.action_space.n, gamma=0.9, tol=1e-3)\n",
    "print(V_vi)\n",
    "print(p_vi)"
   ]
  },
  {
   "cell_type": "code",
   "execution_count": 95,
   "id": "98597706",
   "metadata": {},
   "outputs": [
    {
     "name": "stdout",
     "output_type": "stream",
     "text": [
      "Episode reward: 1.000000\n"
     ]
    }
   ],
   "source": [
    "sub.render_single(env, p_vi, 200)"
   ]
  },
  {
   "cell_type": "code",
   "execution_count": null,
   "id": "983c4a5c",
   "metadata": {},
   "outputs": [],
   "source": []
  }
 ],
 "metadata": {
  "kernelspec": {
   "display_name": "XCS234_Default",
   "language": "python",
   "name": "xcs234_default"
  },
  "language_info": {
   "codemirror_mode": {
    "name": "ipython",
    "version": 3
   },
   "file_extension": ".py",
   "mimetype": "text/x-python",
   "name": "python",
   "nbconvert_exporter": "python",
   "pygments_lexer": "ipython3",
   "version": "3.8.10"
  }
 },
 "nbformat": 4,
 "nbformat_minor": 5
}
