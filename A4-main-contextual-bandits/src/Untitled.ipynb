{
 "cells": [
  {
   "cell_type": "code",
   "execution_count": 1,
   "id": "9734f3c7",
   "metadata": {},
   "outputs": [],
   "source": [
    "from utils.data_preprocessing import dose_class, load_data, LABEL_KEY"
   ]
  },
  {
   "cell_type": "code",
   "execution_count": 9,
   "id": "37dd2b63",
   "metadata": {
    "scrolled": true
   },
   "outputs": [
    {
     "data": {
      "text/plain": [
       "{'PharmGKB Subject ID': 'PA135312262',\n",
       " 'Gender': 'female',\n",
       " 'Race': 'White',\n",
       " 'Ethnicity': 'not Hispanic or Latino',\n",
       " 'Age': '50 - 59',\n",
       " 'Height (cm)': 176.53,\n",
       " 'Weight (kg)': 144.2,\n",
       " 'Indication for Warfarin Treatment': '7',\n",
       " 'Comorbidities': 'Cancer',\n",
       " 'Diabetes': nan,\n",
       " 'Congestive Heart Failure and/or Cardiomyopathy': nan,\n",
       " 'Valve Replacement': nan,\n",
       " 'Medications': 'not aspirin; not simvastatin; not amiodarone',\n",
       " 'Aspirin': 0.0,\n",
       " 'Acetaminophen or Paracetamol (Tylenol)': nan,\n",
       " 'Was Dose of Acetaminophen or Paracetamol (Tylenol) >1300mg/day': nan,\n",
       " 'Simvastatin (Zocor)': 0.0,\n",
       " 'Atorvastatin (Lipitor)': nan,\n",
       " 'Fluvastatin (Lescol)': nan,\n",
       " 'Lovastatin (Mevacor)': nan,\n",
       " 'Pravastatin (Pravachol)': nan,\n",
       " 'Rosuvastatin (Crestor)': nan,\n",
       " 'Cerivastatin (Baycol)': nan,\n",
       " 'Amiodarone (Cordarone)': 0.0,\n",
       " 'Carbamazepine (Tegretol)': 0.0,\n",
       " 'Phenytoin (Dilantin)': 0.0,\n",
       " 'Rifampin or Rifampicin': 0.0,\n",
       " 'Sulfonamide Antibiotics': nan,\n",
       " 'Macrolide Antibiotics': nan,\n",
       " 'Anti-fungal Azoles': nan,\n",
       " 'Herbal Medications, Vitamins, Supplements': nan,\n",
       " 'Target INR': 2.5,\n",
       " 'Estimated Target INR Range Based on Indication': nan,\n",
       " 'Subject Reached Stable Dose of Warfarin': 1.0,\n",
       " 'Therapeutic Dose of Warfarin': 42.0,\n",
       " 'INR on Reported Therapeutic Dose of Warfarin': 2.15,\n",
       " 'Current Smoker': 1.0,\n",
       " 'Cyp2C9 genotypes': '*1/*1',\n",
       " 'Genotyped QC Cyp2C9*2': '*1/*1',\n",
       " 'Genotyped QC Cyp2C9*3': '*1/*1',\n",
       " 'Combined QC CYP2C9': '*1/*1',\n",
       " 'VKORC1 genotype: -1639 G>A (3673); chr16:31015190; rs9923231; C/T': 'A/A',\n",
       " 'VKORC1 QC genotype: -1639 G>A (3673); chr16:31015190; rs9923231; C/T': 'A/A',\n",
       " 'VKORC1 genotype: 497T>G (5808); chr16:31013055; rs2884737; A/C': 'G/T',\n",
       " 'VKORC1 QC genotype: 497T>G (5808); chr16:31013055; rs2884737; A/C': 'G/T',\n",
       " 'VKORC1 genotype: 1173 C>T(6484); chr16:31012379; rs9934438; A/G': nan,\n",
       " 'VKORC1 QC genotype: 1173 C>T(6484); chr16:31012379; rs9934438; A/G': 'T/T',\n",
       " 'VKORC1 genotype: 1542G>C (6853); chr16:31012010; rs8050894; C/G': 'C/C',\n",
       " 'VKORC1 QC genotype: 1542G>C (6853); chr16:31012010; rs8050894; C/G': 'C/C',\n",
       " 'VKORC1 genotype: 3730 G>A (9041); chr16:31009822; rs7294;  A/G': 'G/G',\n",
       " 'VKORC1 QC genotype: 3730 G>A (9041); chr16:31009822; rs7294;  A/G': 'G/G',\n",
       " 'VKORC1 genotype: 2255C>T (7566); chr16:31011297; rs2359612; A/G': nan,\n",
       " 'VKORC1 QC genotype: 2255C>T (7566); chr16:31011297; rs2359612; A/G': 'T/T',\n",
       " 'VKORC1 genotype: -4451 C>A (861); Chr16:31018002; rs17880887; A/C': nan,\n",
       " 'VKORC1 QC genotype: -4451 C>A (861); Chr16:31018002; rs17880887; A/C': 'C/C',\n",
       " 'CYP2C9 consensus': '*1/*1',\n",
       " 'VKORC1 -1639 consensus': 'A/A',\n",
       " 'VKORC1 497 consensus': 'G/T',\n",
       " 'VKORC1 1173 consensus': 'T/T',\n",
       " 'VKORC1 1542 consensus': 'C/C',\n",
       " 'VKORC1 3730 consensus': 'G/G',\n",
       " 'VKORC1 2255 consensus': 'T/T',\n",
       " 'VKORC1 -4451 consensus': 'C/C',\n",
       " 'Unnamed: 63': nan,\n",
       " 'Unnamed: 64': nan,\n",
       " 'Unnamed: 65': nan,\n",
       " 'Male': 0.0,\n",
       " 'Female': 1.0,\n",
       " 'Asian': 0.0,\n",
       " 'Black': 0.0,\n",
       " 'White': 1.0,\n",
       " 'Unknown race': 0.0,\n",
       " 'Age in decades': 5.0,\n",
       " 'VKORC1AG': 0,\n",
       " 'VKORC1AA': 1,\n",
       " 'VKORC1UN': 0,\n",
       " 'CYP2C912': 0,\n",
       " 'CYP2C913': 0,\n",
       " 'CYP2C922': 0,\n",
       " 'CYP2C923': 0,\n",
       " 'CYP2C933': 0,\n",
       " 'CYP2C9UN': 0,\n",
       " 'enzyme_ind': 0.0}"
      ]
     },
     "execution_count": 9,
     "metadata": {},
     "output_type": "execute_result"
    }
   ],
   "source": [
    "data = load_data()\n",
    "x = dict(data.iloc[1])\n",
    "x['enzyme_ind'] = ((x['Carbamazepine (Tegretol)']==1) | (x['Phenytoin (Dilantin)']==1 ) | (x['Rifampin or Rifampicin']==1)).astype(float)\n",
    "x"
   ]
  },
  {
   "cell_type": "code",
   "execution_count": 11,
   "id": "e0dd67f5",
   "metadata": {},
   "outputs": [
    {
     "data": {
      "text/plain": [
       "45.96750504435601"
      ]
     },
     "execution_count": 11,
     "metadata": {},
     "output_type": "execute_result"
    }
   ],
   "source": [
    "\n",
    "(4.0376-x['Age in decades']*0.2546+x['Height (cm)']*0.0118+x['Weight (kg)']*0.0134-x['Asian']*0.6752+x['Black']*0.406+x['Unknown race']*0.0443+x['enzyme_ind']*1.2799-x['Amiodarone (Cordarone)']*0.5695)**2"
   ]
  },
  {
   "cell_type": "code",
   "execution_count": 25,
   "id": "389e6291",
   "metadata": {},
   "outputs": [
    {
     "data": {
      "text/plain": [
       "array([0., 0., 0., 0., 0., 0., 0., 0., 0., 0., 0., 0., 0.])"
      ]
     },
     "execution_count": 25,
     "metadata": {},
     "output_type": "execute_result"
    }
   ],
   "source": [
    "np.zeros(len(features)) #, 1)"
   ]
  },
  {
   "cell_type": "code",
   "execution_count": 40,
   "id": "25cb5718",
   "metadata": {},
   "outputs": [
    {
     "data": {
      "text/plain": [
       "(1, 13)"
      ]
     },
     "execution_count": 40,
     "metadata": {},
     "output_type": "execute_result"
    }
   ],
   "source": [
    "features = [\n",
    "    \"Age in decades\",\n",
    "    \"Height (cm)\",\n",
    "    \"Weight (kg)\",\n",
    "    \"Male\",\n",
    "    \"Female\",\n",
    "    \"Asian\",\n",
    "    \"Black\",\n",
    "    \"White\",\n",
    "    \"Unknown race\",\n",
    "    \"Carbamazepine (Tegretol)\",\n",
    "    \"Phenytoin (Dilantin)\",\n",
    "    \"Rifampin or Rifampicin\",\n",
    "    \"Amiodarone (Cordarone)\",\n",
    "]\n",
    "np.array([x[f] for f in features]).reshape([-1,1]).transpose().shape"
   ]
  },
  {
   "cell_type": "code",
   "execution_count": 23,
   "id": "17766b1d",
   "metadata": {
    "scrolled": true
   },
   "outputs": [],
   "source": [
    "!python run.py"
   ]
  },
  {
   "cell_type": "code",
   "execution_count": 21,
   "id": "4f8a329e",
   "metadata": {},
   "outputs": [
    {
     "name": "stdout",
     "output_type": "stream",
     "text": [
      "========== START GRADING\n",
      "----- START 1a-0-basic: test for fixed prediction\n",
      "----- END 1a-0-basic [took 0:00:00.109785 (max allowed 2 seconds), 0.5/0.5 points]\n",
      "\n",
      "----- START 1a-1-basic: evaluate the performance of clincal model on a single example\n",
      "----- END 1a-1-basic [took 0:00:00.111495 (max allowed 2 seconds), 0.5/0.5 points]\n",
      "\n",
      "----- START 1b-0-basic: basic test for correct initialization\n",
      "----- END 1b-0-basic [took 0:00:00.109257 (max allowed 2 seconds), 2/2 points]\n",
      "\n",
      "----- START 1b-1-basic: evaluate the choose function of LinUCB on a single example\n",
      "----- END 1b-1-basic [took 0:00:00.130728 (max allowed 2 seconds), 2/2 points]\n",
      "\n",
      "----- START 1c-0-basic: evaluate the choose function of egreedy disjoint linear UCB on single example\n",
      "----- END 1c-0-basic [took 0:00:00.625042 (max allowed 10 seconds), 4/4 points]\n",
      "\n",
      "----- START 1d-0-basic: basic test for correct initialization\n",
      "----- END 1d-0-basic [took 0:00:00.138035 (max allowed 2 seconds), 2/2 points]\n",
      "\n",
      "----- START 1d-1-basic: basic evaluation of the choose function of Thompson Sampling on a single example\n",
      "----- END 1d-1-basic [took 0:00:00.735583 (max allowed 5 seconds), 2/2 points]\n",
      "\n",
      "Note that the hidden test cases do not check for correctness.\n",
      "They are provided for you to verify that the functions do not crash and run within the time limit.\n",
      "Points for these parts not assigned by the grader unless the solution is present (indicated by \"???\").\n",
      "========== END GRADING [13.0/13.0 points + 0/0 extra credit]\n"
     ]
    }
   ],
   "source": [
    "!python grader.py"
   ]
  },
  {
   "cell_type": "code",
   "execution_count": 4,
   "id": "9bc0e126",
   "metadata": {},
   "outputs": [
    {
     "data": {
      "text/plain": [
       "1"
      ]
     },
     "execution_count": 4,
     "metadata": {},
     "output_type": "execute_result"
    }
   ],
   "source": [
    "import numpy as np\n",
    "np.argmax([1,2,2])"
   ]
  },
  {
   "cell_type": "code",
   "execution_count": 8,
   "id": "fed5783d",
   "metadata": {},
   "outputs": [
    {
     "data": {
      "text/plain": [
       "array([[0.],\n",
       "       [0.],\n",
       "       [0.],\n",
       "       [0.],\n",
       "       [0.]])"
      ]
     },
     "execution_count": 8,
     "metadata": {},
     "output_type": "execute_result"
    }
   ],
   "source": [
    "mu =np.zeros((5, 1))\n",
    "mu"
   ]
  },
  {
   "cell_type": "code",
   "execution_count": 13,
   "id": "3718453f",
   "metadata": {},
   "outputs": [],
   "source": [
    "f = np.zeros(5)"
   ]
  },
  {
   "cell_type": "code",
   "execution_count": 9,
   "id": "a12c7995",
   "metadata": {},
   "outputs": [
    {
     "data": {
      "text/plain": [
       "array([[ 1.,  0.,  0.,  0.,  0.],\n",
       "       [ 0.,  1.,  0.,  0.,  0.],\n",
       "       [ 0.,  0.,  1.,  0.,  0.],\n",
       "       [-0., -0., -0.,  1., -0.],\n",
       "       [ 0.,  0.,  0.,  0.,  1.]])"
      ]
     },
     "execution_count": 9,
     "metadata": {},
     "output_type": "execute_result"
    }
   ],
   "source": [
    "B = np.eye(5)\n",
    "B_inv = np.linalg.inv(B)\n",
    "B_inv"
   ]
  },
  {
   "cell_type": "code",
   "execution_count": 14,
   "id": "9cdd7a44",
   "metadata": {},
   "outputs": [
    {
     "data": {
      "text/plain": [
       "array([0., 0., 0., 0., 0.])"
      ]
     },
     "execution_count": 14,
     "metadata": {},
     "output_type": "execute_result"
    }
   ],
   "source": [
    "np.matmul(B_inv, f)"
   ]
  },
  {
   "cell_type": "code",
   "execution_count": null,
   "id": "850d5ce7",
   "metadata": {},
   "outputs": [],
   "source": []
  }
 ],
 "metadata": {
  "kernelspec": {
   "display_name": "XCS234_Default",
   "language": "python",
   "name": "xcs234_default"
  },
  "language_info": {
   "codemirror_mode": {
    "name": "ipython",
    "version": 3
   },
   "file_extension": ".py",
   "mimetype": "text/x-python",
   "name": "python",
   "nbconvert_exporter": "python",
   "pygments_lexer": "ipython3",
   "version": "3.8.10"
  }
 },
 "nbformat": 4,
 "nbformat_minor": 5
}
